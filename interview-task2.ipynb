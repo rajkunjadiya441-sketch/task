{
 "cells": [
  {
   "cell_type": "markdown",
   "id": "70831932",
   "metadata": {
    "papermill": {
     "duration": 0.00569,
     "end_time": "2025-08-30T14:13:16.213700",
     "exception": false,
     "start_time": "2025-08-30T14:13:16.208010",
     "status": "completed"
    },
    "tags": []
   },
   "source": [
    "# Instructions \n",
    "\n",
    "- Make sure you’re logged into Kaggle.\n",
    "- Load the **Video Game Sales dataset** (CSV file is provided in the Kaggle input section).  \n",
    "- Carefully read through each step and run the cells in order.  \n",
    "- Do **not** skip steps — each builds on the previous one.  \n",
    "- Add your own observations wherever possible, especially when exploring graphs.  \n",
    "- Remember: This is practice for real-world data preprocessing + EDA, so try to think *why* each step is done, not just *how*.  \n",
    "- At the end, feel free to explore further — add more plots, groupbys, or questions you want to answer!  \n",
    "\n"
   ]
  },
  {
   "cell_type": "markdown",
   "id": "0f58ad3a",
   "metadata": {
    "papermill": {
     "duration": 0.00451,
     "end_time": "2025-08-30T14:13:16.223151",
     "exception": false,
     "start_time": "2025-08-30T14:13:16.218641",
     "status": "completed"
    },
    "tags": []
   },
   "source": [
    "Welcome to your next checkpoint on the Synapse road!\n",
    "Today we’re diving into the Video Game Sales dataset to practice real-world data preprocessing + EDA. Think of this like prepping ingredients before cooking — we’ll clean, slice, and plate the data so insights pop 🍽️"
   ]
  },
  {
   "cell_type": "markdown",
   "id": "59021caf",
   "metadata": {
    "papermill": {
     "duration": 0.004416,
     "end_time": "2025-08-30T14:13:16.232263",
     "exception": false,
     "start_time": "2025-08-30T14:13:16.227847",
     "status": "completed"
    },
    "tags": []
   },
   "source": [
    "We’ll be using pandas, numpy, matplotlib, and seaborn for this task.\n",
    "Run the following cell to import them"
   ]
  },
  {
   "cell_type": "code",
   "execution_count": 1,
   "id": "fdd1005c",
   "metadata": {
    "execution": {
     "iopub.execute_input": "2025-08-30T14:13:16.243330Z",
     "iopub.status.busy": "2025-08-30T14:13:16.242448Z",
     "iopub.status.idle": "2025-08-30T14:13:19.790652Z",
     "shell.execute_reply": "2025-08-30T14:13:19.789907Z"
    },
    "papermill": {
     "duration": 3.555437,
     "end_time": "2025-08-30T14:13:19.792291",
     "exception": false,
     "start_time": "2025-08-30T14:13:16.236854",
     "status": "completed"
    },
    "tags": []
   },
   "outputs": [],
   "source": [
    "import pandas as pd\n",
    "import numpy as np\n",
    "import matplotlib.pyplot as plt\n",
    "import seaborn as sns"
   ]
  },
  {
   "cell_type": "markdown",
   "id": "e21e333b",
   "metadata": {
    "papermill": {
     "duration": 0.004573,
     "end_time": "2025-08-30T14:13:19.801794",
     "exception": false,
     "start_time": "2025-08-30T14:13:19.797221",
     "status": "completed"
    },
    "tags": []
   },
   "source": [
    "Alright, now that we’ve got our tools ready, let’s bring in the star of the show — the **Video Game Sales dataset** 🎮  \n",
    "\n",
    "Your task:  \n",
    "- Load the dataset into a pandas DataFrame.  \n",
    "- Take a quick peek at the first few rows using.  \n",
    "- Check the shape of the dataset to see how big this universe is.  \n",
    "\n",
    "Think of this step as unboxing a new console — gotta see what’s inside first!  \n"
   ]
  },
  {
   "cell_type": "code",
   "execution_count": 2,
   "id": "dde42f7e",
   "metadata": {
    "execution": {
     "iopub.execute_input": "2025-08-30T14:13:19.812296Z",
     "iopub.status.busy": "2025-08-30T14:13:19.811910Z",
     "iopub.status.idle": "2025-08-30T14:13:19.889501Z",
     "shell.execute_reply": "2025-08-30T14:13:19.888608Z"
    },
    "papermill": {
     "duration": 0.084874,
     "end_time": "2025-08-30T14:13:19.891238",
     "exception": false,
     "start_time": "2025-08-30T14:13:19.806364",
     "status": "completed"
    },
    "tags": []
   },
   "outputs": [],
   "source": [
    "df=pd.read_csv(\"/kaggle/input/videogamesales/vgsales.csv\")"
   ]
  },
  {
   "cell_type": "code",
   "execution_count": 3,
   "id": "18510d8b",
   "metadata": {
    "execution": {
     "iopub.execute_input": "2025-08-30T14:13:19.903650Z",
     "iopub.status.busy": "2025-08-30T14:13:19.902926Z",
     "iopub.status.idle": "2025-08-30T14:13:19.934938Z",
     "shell.execute_reply": "2025-08-30T14:13:19.933997Z"
    },
    "papermill": {
     "duration": 0.039864,
     "end_time": "2025-08-30T14:13:19.936255",
     "exception": false,
     "start_time": "2025-08-30T14:13:19.896391",
     "status": "completed"
    },
    "tags": []
   },
   "outputs": [
    {
     "data": {
      "text/html": [
       "<div>\n",
       "<style scoped>\n",
       "    .dataframe tbody tr th:only-of-type {\n",
       "        vertical-align: middle;\n",
       "    }\n",
       "\n",
       "    .dataframe tbody tr th {\n",
       "        vertical-align: top;\n",
       "    }\n",
       "\n",
       "    .dataframe thead th {\n",
       "        text-align: right;\n",
       "    }\n",
       "</style>\n",
       "<table border=\"1\" class=\"dataframe\">\n",
       "  <thead>\n",
       "    <tr style=\"text-align: right;\">\n",
       "      <th></th>\n",
       "      <th>Rank</th>\n",
       "      <th>Name</th>\n",
       "      <th>Platform</th>\n",
       "      <th>Year</th>\n",
       "      <th>Genre</th>\n",
       "      <th>Publisher</th>\n",
       "      <th>NA_Sales</th>\n",
       "      <th>EU_Sales</th>\n",
       "      <th>JP_Sales</th>\n",
       "      <th>Other_Sales</th>\n",
       "      <th>Global_Sales</th>\n",
       "    </tr>\n",
       "  </thead>\n",
       "  <tbody>\n",
       "    <tr>\n",
       "      <th>0</th>\n",
       "      <td>1</td>\n",
       "      <td>Wii Sports</td>\n",
       "      <td>Wii</td>\n",
       "      <td>2006.0</td>\n",
       "      <td>Sports</td>\n",
       "      <td>Nintendo</td>\n",
       "      <td>41.49</td>\n",
       "      <td>29.02</td>\n",
       "      <td>3.77</td>\n",
       "      <td>8.46</td>\n",
       "      <td>82.74</td>\n",
       "    </tr>\n",
       "    <tr>\n",
       "      <th>1</th>\n",
       "      <td>2</td>\n",
       "      <td>Super Mario Bros.</td>\n",
       "      <td>NES</td>\n",
       "      <td>1985.0</td>\n",
       "      <td>Platform</td>\n",
       "      <td>Nintendo</td>\n",
       "      <td>29.08</td>\n",
       "      <td>3.58</td>\n",
       "      <td>6.81</td>\n",
       "      <td>0.77</td>\n",
       "      <td>40.24</td>\n",
       "    </tr>\n",
       "    <tr>\n",
       "      <th>2</th>\n",
       "      <td>3</td>\n",
       "      <td>Mario Kart Wii</td>\n",
       "      <td>Wii</td>\n",
       "      <td>2008.0</td>\n",
       "      <td>Racing</td>\n",
       "      <td>Nintendo</td>\n",
       "      <td>15.85</td>\n",
       "      <td>12.88</td>\n",
       "      <td>3.79</td>\n",
       "      <td>3.31</td>\n",
       "      <td>35.82</td>\n",
       "    </tr>\n",
       "    <tr>\n",
       "      <th>3</th>\n",
       "      <td>4</td>\n",
       "      <td>Wii Sports Resort</td>\n",
       "      <td>Wii</td>\n",
       "      <td>2009.0</td>\n",
       "      <td>Sports</td>\n",
       "      <td>Nintendo</td>\n",
       "      <td>15.75</td>\n",
       "      <td>11.01</td>\n",
       "      <td>3.28</td>\n",
       "      <td>2.96</td>\n",
       "      <td>33.00</td>\n",
       "    </tr>\n",
       "    <tr>\n",
       "      <th>4</th>\n",
       "      <td>5</td>\n",
       "      <td>Pokemon Red/Pokemon Blue</td>\n",
       "      <td>GB</td>\n",
       "      <td>1996.0</td>\n",
       "      <td>Role-Playing</td>\n",
       "      <td>Nintendo</td>\n",
       "      <td>11.27</td>\n",
       "      <td>8.89</td>\n",
       "      <td>10.22</td>\n",
       "      <td>1.00</td>\n",
       "      <td>31.37</td>\n",
       "    </tr>\n",
       "    <tr>\n",
       "      <th>5</th>\n",
       "      <td>6</td>\n",
       "      <td>Tetris</td>\n",
       "      <td>GB</td>\n",
       "      <td>1989.0</td>\n",
       "      <td>Puzzle</td>\n",
       "      <td>Nintendo</td>\n",
       "      <td>23.20</td>\n",
       "      <td>2.26</td>\n",
       "      <td>4.22</td>\n",
       "      <td>0.58</td>\n",
       "      <td>30.26</td>\n",
       "    </tr>\n",
       "    <tr>\n",
       "      <th>6</th>\n",
       "      <td>7</td>\n",
       "      <td>New Super Mario Bros.</td>\n",
       "      <td>DS</td>\n",
       "      <td>2006.0</td>\n",
       "      <td>Platform</td>\n",
       "      <td>Nintendo</td>\n",
       "      <td>11.38</td>\n",
       "      <td>9.23</td>\n",
       "      <td>6.50</td>\n",
       "      <td>2.90</td>\n",
       "      <td>30.01</td>\n",
       "    </tr>\n",
       "    <tr>\n",
       "      <th>7</th>\n",
       "      <td>8</td>\n",
       "      <td>Wii Play</td>\n",
       "      <td>Wii</td>\n",
       "      <td>2006.0</td>\n",
       "      <td>Misc</td>\n",
       "      <td>Nintendo</td>\n",
       "      <td>14.03</td>\n",
       "      <td>9.20</td>\n",
       "      <td>2.93</td>\n",
       "      <td>2.85</td>\n",
       "      <td>29.02</td>\n",
       "    </tr>\n",
       "    <tr>\n",
       "      <th>8</th>\n",
       "      <td>9</td>\n",
       "      <td>New Super Mario Bros. Wii</td>\n",
       "      <td>Wii</td>\n",
       "      <td>2009.0</td>\n",
       "      <td>Platform</td>\n",
       "      <td>Nintendo</td>\n",
       "      <td>14.59</td>\n",
       "      <td>7.06</td>\n",
       "      <td>4.70</td>\n",
       "      <td>2.26</td>\n",
       "      <td>28.62</td>\n",
       "    </tr>\n",
       "    <tr>\n",
       "      <th>9</th>\n",
       "      <td>10</td>\n",
       "      <td>Duck Hunt</td>\n",
       "      <td>NES</td>\n",
       "      <td>1984.0</td>\n",
       "      <td>Shooter</td>\n",
       "      <td>Nintendo</td>\n",
       "      <td>26.93</td>\n",
       "      <td>0.63</td>\n",
       "      <td>0.28</td>\n",
       "      <td>0.47</td>\n",
       "      <td>28.31</td>\n",
       "    </tr>\n",
       "    <tr>\n",
       "      <th>10</th>\n",
       "      <td>11</td>\n",
       "      <td>Nintendogs</td>\n",
       "      <td>DS</td>\n",
       "      <td>2005.0</td>\n",
       "      <td>Simulation</td>\n",
       "      <td>Nintendo</td>\n",
       "      <td>9.07</td>\n",
       "      <td>11.00</td>\n",
       "      <td>1.93</td>\n",
       "      <td>2.75</td>\n",
       "      <td>24.76</td>\n",
       "    </tr>\n",
       "    <tr>\n",
       "      <th>11</th>\n",
       "      <td>12</td>\n",
       "      <td>Mario Kart DS</td>\n",
       "      <td>DS</td>\n",
       "      <td>2005.0</td>\n",
       "      <td>Racing</td>\n",
       "      <td>Nintendo</td>\n",
       "      <td>9.81</td>\n",
       "      <td>7.57</td>\n",
       "      <td>4.13</td>\n",
       "      <td>1.92</td>\n",
       "      <td>23.42</td>\n",
       "    </tr>\n",
       "    <tr>\n",
       "      <th>12</th>\n",
       "      <td>13</td>\n",
       "      <td>Pokemon Gold/Pokemon Silver</td>\n",
       "      <td>GB</td>\n",
       "      <td>1999.0</td>\n",
       "      <td>Role-Playing</td>\n",
       "      <td>Nintendo</td>\n",
       "      <td>9.00</td>\n",
       "      <td>6.18</td>\n",
       "      <td>7.20</td>\n",
       "      <td>0.71</td>\n",
       "      <td>23.10</td>\n",
       "    </tr>\n",
       "    <tr>\n",
       "      <th>13</th>\n",
       "      <td>14</td>\n",
       "      <td>Wii Fit</td>\n",
       "      <td>Wii</td>\n",
       "      <td>2007.0</td>\n",
       "      <td>Sports</td>\n",
       "      <td>Nintendo</td>\n",
       "      <td>8.94</td>\n",
       "      <td>8.03</td>\n",
       "      <td>3.60</td>\n",
       "      <td>2.15</td>\n",
       "      <td>22.72</td>\n",
       "    </tr>\n",
       "    <tr>\n",
       "      <th>14</th>\n",
       "      <td>15</td>\n",
       "      <td>Wii Fit Plus</td>\n",
       "      <td>Wii</td>\n",
       "      <td>2009.0</td>\n",
       "      <td>Sports</td>\n",
       "      <td>Nintendo</td>\n",
       "      <td>9.09</td>\n",
       "      <td>8.59</td>\n",
       "      <td>2.53</td>\n",
       "      <td>1.79</td>\n",
       "      <td>22.00</td>\n",
       "    </tr>\n",
       "    <tr>\n",
       "      <th>15</th>\n",
       "      <td>16</td>\n",
       "      <td>Kinect Adventures!</td>\n",
       "      <td>X360</td>\n",
       "      <td>2010.0</td>\n",
       "      <td>Misc</td>\n",
       "      <td>Microsoft Game Studios</td>\n",
       "      <td>14.97</td>\n",
       "      <td>4.94</td>\n",
       "      <td>0.24</td>\n",
       "      <td>1.67</td>\n",
       "      <td>21.82</td>\n",
       "    </tr>\n",
       "    <tr>\n",
       "      <th>16</th>\n",
       "      <td>17</td>\n",
       "      <td>Grand Theft Auto V</td>\n",
       "      <td>PS3</td>\n",
       "      <td>2013.0</td>\n",
       "      <td>Action</td>\n",
       "      <td>Take-Two Interactive</td>\n",
       "      <td>7.01</td>\n",
       "      <td>9.27</td>\n",
       "      <td>0.97</td>\n",
       "      <td>4.14</td>\n",
       "      <td>21.40</td>\n",
       "    </tr>\n",
       "    <tr>\n",
       "      <th>17</th>\n",
       "      <td>18</td>\n",
       "      <td>Grand Theft Auto: San Andreas</td>\n",
       "      <td>PS2</td>\n",
       "      <td>2004.0</td>\n",
       "      <td>Action</td>\n",
       "      <td>Take-Two Interactive</td>\n",
       "      <td>9.43</td>\n",
       "      <td>0.40</td>\n",
       "      <td>0.41</td>\n",
       "      <td>10.57</td>\n",
       "      <td>20.81</td>\n",
       "    </tr>\n",
       "    <tr>\n",
       "      <th>18</th>\n",
       "      <td>19</td>\n",
       "      <td>Super Mario World</td>\n",
       "      <td>SNES</td>\n",
       "      <td>1990.0</td>\n",
       "      <td>Platform</td>\n",
       "      <td>Nintendo</td>\n",
       "      <td>12.78</td>\n",
       "      <td>3.75</td>\n",
       "      <td>3.54</td>\n",
       "      <td>0.55</td>\n",
       "      <td>20.61</td>\n",
       "    </tr>\n",
       "    <tr>\n",
       "      <th>19</th>\n",
       "      <td>20</td>\n",
       "      <td>Brain Age: Train Your Brain in Minutes a Day</td>\n",
       "      <td>DS</td>\n",
       "      <td>2005.0</td>\n",
       "      <td>Misc</td>\n",
       "      <td>Nintendo</td>\n",
       "      <td>4.75</td>\n",
       "      <td>9.26</td>\n",
       "      <td>4.16</td>\n",
       "      <td>2.05</td>\n",
       "      <td>20.22</td>\n",
       "    </tr>\n",
       "  </tbody>\n",
       "</table>\n",
       "</div>"
      ],
      "text/plain": [
       "    Rank                                          Name Platform    Year  \\\n",
       "0      1                                    Wii Sports      Wii  2006.0   \n",
       "1      2                             Super Mario Bros.      NES  1985.0   \n",
       "2      3                                Mario Kart Wii      Wii  2008.0   \n",
       "3      4                             Wii Sports Resort      Wii  2009.0   \n",
       "4      5                      Pokemon Red/Pokemon Blue       GB  1996.0   \n",
       "5      6                                        Tetris       GB  1989.0   \n",
       "6      7                         New Super Mario Bros.       DS  2006.0   \n",
       "7      8                                      Wii Play      Wii  2006.0   \n",
       "8      9                     New Super Mario Bros. Wii      Wii  2009.0   \n",
       "9     10                                     Duck Hunt      NES  1984.0   \n",
       "10    11                                    Nintendogs       DS  2005.0   \n",
       "11    12                                 Mario Kart DS       DS  2005.0   \n",
       "12    13                   Pokemon Gold/Pokemon Silver       GB  1999.0   \n",
       "13    14                                       Wii Fit      Wii  2007.0   \n",
       "14    15                                  Wii Fit Plus      Wii  2009.0   \n",
       "15    16                            Kinect Adventures!     X360  2010.0   \n",
       "16    17                            Grand Theft Auto V      PS3  2013.0   \n",
       "17    18                 Grand Theft Auto: San Andreas      PS2  2004.0   \n",
       "18    19                             Super Mario World     SNES  1990.0   \n",
       "19    20  Brain Age: Train Your Brain in Minutes a Day       DS  2005.0   \n",
       "\n",
       "           Genre               Publisher  NA_Sales  EU_Sales  JP_Sales  \\\n",
       "0         Sports                Nintendo     41.49     29.02      3.77   \n",
       "1       Platform                Nintendo     29.08      3.58      6.81   \n",
       "2         Racing                Nintendo     15.85     12.88      3.79   \n",
       "3         Sports                Nintendo     15.75     11.01      3.28   \n",
       "4   Role-Playing                Nintendo     11.27      8.89     10.22   \n",
       "5         Puzzle                Nintendo     23.20      2.26      4.22   \n",
       "6       Platform                Nintendo     11.38      9.23      6.50   \n",
       "7           Misc                Nintendo     14.03      9.20      2.93   \n",
       "8       Platform                Nintendo     14.59      7.06      4.70   \n",
       "9        Shooter                Nintendo     26.93      0.63      0.28   \n",
       "10    Simulation                Nintendo      9.07     11.00      1.93   \n",
       "11        Racing                Nintendo      9.81      7.57      4.13   \n",
       "12  Role-Playing                Nintendo      9.00      6.18      7.20   \n",
       "13        Sports                Nintendo      8.94      8.03      3.60   \n",
       "14        Sports                Nintendo      9.09      8.59      2.53   \n",
       "15          Misc  Microsoft Game Studios     14.97      4.94      0.24   \n",
       "16        Action    Take-Two Interactive      7.01      9.27      0.97   \n",
       "17        Action    Take-Two Interactive      9.43      0.40      0.41   \n",
       "18      Platform                Nintendo     12.78      3.75      3.54   \n",
       "19          Misc                Nintendo      4.75      9.26      4.16   \n",
       "\n",
       "    Other_Sales  Global_Sales  \n",
       "0          8.46         82.74  \n",
       "1          0.77         40.24  \n",
       "2          3.31         35.82  \n",
       "3          2.96         33.00  \n",
       "4          1.00         31.37  \n",
       "5          0.58         30.26  \n",
       "6          2.90         30.01  \n",
       "7          2.85         29.02  \n",
       "8          2.26         28.62  \n",
       "9          0.47         28.31  \n",
       "10         2.75         24.76  \n",
       "11         1.92         23.42  \n",
       "12         0.71         23.10  \n",
       "13         2.15         22.72  \n",
       "14         1.79         22.00  \n",
       "15         1.67         21.82  \n",
       "16         4.14         21.40  \n",
       "17        10.57         20.81  \n",
       "18         0.55         20.61  \n",
       "19         2.05         20.22  "
      ]
     },
     "execution_count": 3,
     "metadata": {},
     "output_type": "execute_result"
    }
   ],
   "source": [
    "df.head(20)"
   ]
  },
  {
   "cell_type": "code",
   "execution_count": 4,
   "id": "88d9a83b",
   "metadata": {
    "execution": {
     "iopub.execute_input": "2025-08-30T14:13:19.947929Z",
     "iopub.status.busy": "2025-08-30T14:13:19.947653Z",
     "iopub.status.idle": "2025-08-30T14:13:19.954212Z",
     "shell.execute_reply": "2025-08-30T14:13:19.953437Z"
    },
    "papermill": {
     "duration": 0.013993,
     "end_time": "2025-08-30T14:13:19.955624",
     "exception": false,
     "start_time": "2025-08-30T14:13:19.941631",
     "status": "completed"
    },
    "tags": []
   },
   "outputs": [
    {
     "data": {
      "text/plain": [
       "Index(['Rank', 'Name', 'Platform', 'Year', 'Genre', 'Publisher', 'NA_Sales',\n",
       "       'EU_Sales', 'JP_Sales', 'Other_Sales', 'Global_Sales'],\n",
       "      dtype='object')"
      ]
     },
     "execution_count": 4,
     "metadata": {},
     "output_type": "execute_result"
    }
   ],
   "source": [
    "df.shape\n",
    "df.columns\n"
   ]
  },
  {
   "cell_type": "markdown",
   "id": "d11f382d",
   "metadata": {
    "papermill": {
     "duration": 0.005019,
     "end_time": "2025-08-30T14:13:19.965991",
     "exception": false,
     "start_time": "2025-08-30T14:13:19.960972",
     "status": "completed"
    },
    "tags": []
   },
   "source": [
    "### 🕹️ Level 1: Meet the Characters  \n",
    "\n",
    "Now that we’ve unboxed our dataset, let’s get to know the **cast of characters**:  \n",
    "- What kinds of columns do we have? (numeric, object, etc.)  \n",
    "- How many missing values are there?  \n",
    "\n",
    "Your task:  \n",
    "- To get a quick overview of column types + null values.  \n",
    "- To double-check the data types.  \n",
    "\n",
    "This step is like reading the **character bios** before starting a game   \n"
   ]
  },
  {
   "cell_type": "code",
   "execution_count": 5,
   "id": "2633f31a",
   "metadata": {
    "execution": {
     "iopub.execute_input": "2025-08-30T14:13:19.977687Z",
     "iopub.status.busy": "2025-08-30T14:13:19.977345Z",
     "iopub.status.idle": "2025-08-30T14:13:19.983469Z",
     "shell.execute_reply": "2025-08-30T14:13:19.982804Z"
    },
    "papermill": {
     "duration": 0.013423,
     "end_time": "2025-08-30T14:13:19.984693",
     "exception": false,
     "start_time": "2025-08-30T14:13:19.971270",
     "status": "completed"
    },
    "tags": []
   },
   "outputs": [
    {
     "data": {
      "text/plain": [
       "Rank              int64\n",
       "Name             object\n",
       "Platform         object\n",
       "Year            float64\n",
       "Genre            object\n",
       "Publisher        object\n",
       "NA_Sales        float64\n",
       "EU_Sales        float64\n",
       "JP_Sales        float64\n",
       "Other_Sales     float64\n",
       "Global_Sales    float64\n",
       "dtype: object"
      ]
     },
     "execution_count": 5,
     "metadata": {},
     "output_type": "execute_result"
    }
   ],
   "source": [
    "df.dtypes\n"
   ]
  },
  {
   "cell_type": "code",
   "execution_count": null,
   "id": "501c02c7",
   "metadata": {
    "papermill": {
     "duration": 0.005102,
     "end_time": "2025-08-30T14:13:19.995145",
     "exception": false,
     "start_time": "2025-08-30T14:13:19.990043",
     "status": "completed"
    },
    "tags": []
   },
   "outputs": [],
   "source": []
  },
  {
   "cell_type": "markdown",
   "id": "f1fac541",
   "metadata": {
    "papermill": {
     "duration": 0.004912,
     "end_time": "2025-08-30T14:13:20.005232",
     "exception": false,
     "start_time": "2025-08-30T14:13:20.000320",
     "status": "completed"
    },
    "tags": []
   },
   "source": [
    "### 🎯 Level 2: Quick Stats Check (Describe the Data)  \n",
    "\n",
    "Every good gamer checks the **stats screen** before playing  \n",
    "Now, let’s do the same for our dataset:  \n",
    "\n",
    "Your task:  \n",
    "- To get summary statistics for numerical columns.  \n",
    "- Notice things like average sales, max values, and distribution hints.  \n",
    "\n",
    "This is like peeking at the **scoreboard** — who’s leading, what’s the high score?   \n"
   ]
  },
  {
   "cell_type": "code",
   "execution_count": 6,
   "id": "aac51fc2",
   "metadata": {
    "execution": {
     "iopub.execute_input": "2025-08-30T14:13:20.017596Z",
     "iopub.status.busy": "2025-08-30T14:13:20.016773Z",
     "iopub.status.idle": "2025-08-30T14:13:20.048654Z",
     "shell.execute_reply": "2025-08-30T14:13:20.047823Z"
    },
    "papermill": {
     "duration": 0.039274,
     "end_time": "2025-08-30T14:13:20.050017",
     "exception": false,
     "start_time": "2025-08-30T14:13:20.010743",
     "status": "completed"
    },
    "tags": []
   },
   "outputs": [
    {
     "data": {
      "text/html": [
       "<div>\n",
       "<style scoped>\n",
       "    .dataframe tbody tr th:only-of-type {\n",
       "        vertical-align: middle;\n",
       "    }\n",
       "\n",
       "    .dataframe tbody tr th {\n",
       "        vertical-align: top;\n",
       "    }\n",
       "\n",
       "    .dataframe thead th {\n",
       "        text-align: right;\n",
       "    }\n",
       "</style>\n",
       "<table border=\"1\" class=\"dataframe\">\n",
       "  <thead>\n",
       "    <tr style=\"text-align: right;\">\n",
       "      <th></th>\n",
       "      <th>Rank</th>\n",
       "      <th>Year</th>\n",
       "      <th>NA_Sales</th>\n",
       "      <th>EU_Sales</th>\n",
       "      <th>JP_Sales</th>\n",
       "      <th>Other_Sales</th>\n",
       "      <th>Global_Sales</th>\n",
       "    </tr>\n",
       "  </thead>\n",
       "  <tbody>\n",
       "    <tr>\n",
       "      <th>count</th>\n",
       "      <td>16598.000000</td>\n",
       "      <td>16327.000000</td>\n",
       "      <td>16598.000000</td>\n",
       "      <td>16598.000000</td>\n",
       "      <td>16598.000000</td>\n",
       "      <td>16598.000000</td>\n",
       "      <td>16598.000000</td>\n",
       "    </tr>\n",
       "    <tr>\n",
       "      <th>mean</th>\n",
       "      <td>8300.605254</td>\n",
       "      <td>2006.406443</td>\n",
       "      <td>0.264667</td>\n",
       "      <td>0.146652</td>\n",
       "      <td>0.077782</td>\n",
       "      <td>0.048063</td>\n",
       "      <td>0.537441</td>\n",
       "    </tr>\n",
       "    <tr>\n",
       "      <th>std</th>\n",
       "      <td>4791.853933</td>\n",
       "      <td>5.828981</td>\n",
       "      <td>0.816683</td>\n",
       "      <td>0.505351</td>\n",
       "      <td>0.309291</td>\n",
       "      <td>0.188588</td>\n",
       "      <td>1.555028</td>\n",
       "    </tr>\n",
       "    <tr>\n",
       "      <th>min</th>\n",
       "      <td>1.000000</td>\n",
       "      <td>1980.000000</td>\n",
       "      <td>0.000000</td>\n",
       "      <td>0.000000</td>\n",
       "      <td>0.000000</td>\n",
       "      <td>0.000000</td>\n",
       "      <td>0.010000</td>\n",
       "    </tr>\n",
       "    <tr>\n",
       "      <th>25%</th>\n",
       "      <td>4151.250000</td>\n",
       "      <td>2003.000000</td>\n",
       "      <td>0.000000</td>\n",
       "      <td>0.000000</td>\n",
       "      <td>0.000000</td>\n",
       "      <td>0.000000</td>\n",
       "      <td>0.060000</td>\n",
       "    </tr>\n",
       "    <tr>\n",
       "      <th>50%</th>\n",
       "      <td>8300.500000</td>\n",
       "      <td>2007.000000</td>\n",
       "      <td>0.080000</td>\n",
       "      <td>0.020000</td>\n",
       "      <td>0.000000</td>\n",
       "      <td>0.010000</td>\n",
       "      <td>0.170000</td>\n",
       "    </tr>\n",
       "    <tr>\n",
       "      <th>75%</th>\n",
       "      <td>12449.750000</td>\n",
       "      <td>2010.000000</td>\n",
       "      <td>0.240000</td>\n",
       "      <td>0.110000</td>\n",
       "      <td>0.040000</td>\n",
       "      <td>0.040000</td>\n",
       "      <td>0.470000</td>\n",
       "    </tr>\n",
       "    <tr>\n",
       "      <th>max</th>\n",
       "      <td>16600.000000</td>\n",
       "      <td>2020.000000</td>\n",
       "      <td>41.490000</td>\n",
       "      <td>29.020000</td>\n",
       "      <td>10.220000</td>\n",
       "      <td>10.570000</td>\n",
       "      <td>82.740000</td>\n",
       "    </tr>\n",
       "  </tbody>\n",
       "</table>\n",
       "</div>"
      ],
      "text/plain": [
       "               Rank          Year      NA_Sales      EU_Sales      JP_Sales  \\\n",
       "count  16598.000000  16327.000000  16598.000000  16598.000000  16598.000000   \n",
       "mean    8300.605254   2006.406443      0.264667      0.146652      0.077782   \n",
       "std     4791.853933      5.828981      0.816683      0.505351      0.309291   \n",
       "min        1.000000   1980.000000      0.000000      0.000000      0.000000   \n",
       "25%     4151.250000   2003.000000      0.000000      0.000000      0.000000   \n",
       "50%     8300.500000   2007.000000      0.080000      0.020000      0.000000   \n",
       "75%    12449.750000   2010.000000      0.240000      0.110000      0.040000   \n",
       "max    16600.000000   2020.000000     41.490000     29.020000     10.220000   \n",
       "\n",
       "        Other_Sales  Global_Sales  \n",
       "count  16598.000000  16598.000000  \n",
       "mean       0.048063      0.537441  \n",
       "std        0.188588      1.555028  \n",
       "min        0.000000      0.010000  \n",
       "25%        0.000000      0.060000  \n",
       "50%        0.010000      0.170000  \n",
       "75%        0.040000      0.470000  \n",
       "max       10.570000     82.740000  "
      ]
     },
     "execution_count": 6,
     "metadata": {},
     "output_type": "execute_result"
    }
   ],
   "source": [
    "df.describe()"
   ]
  },
  {
   "cell_type": "markdown",
   "id": "639db1cd",
   "metadata": {
    "papermill": {
     "duration": 0.005347,
     "end_time": "2025-08-30T14:13:20.061110",
     "exception": false,
     "start_time": "2025-08-30T14:13:20.055763",
     "status": "completed"
    },
    "tags": []
   },
   "source": [
    "## 🧹 Level 3: Clean the Map (Missing Values)\n",
    "\n",
    "Time to sweep the floor before we play.\n",
    "\n",
    "**Your tasks:**\n",
    "- Check how many missing values are in each column.\n",
    "- For this dataset, handle missing values in **`Year`** and **`Publisher`** by removing those rows.\n",
    "- Re-check to confirm there are **no missing values left**.\n",
    "\n",
    "> Tip: Do a quick sanity check after cleaning (row count should drop a bit).\n"
   ]
  },
  {
   "cell_type": "code",
   "execution_count": 7,
   "id": "28f3334c",
   "metadata": {
    "execution": {
     "iopub.execute_input": "2025-08-30T14:13:20.073583Z",
     "iopub.status.busy": "2025-08-30T14:13:20.072696Z",
     "iopub.status.idle": "2025-08-30T14:13:20.084125Z",
     "shell.execute_reply": "2025-08-30T14:13:20.083359Z"
    },
    "papermill": {
     "duration": 0.018896,
     "end_time": "2025-08-30T14:13:20.085383",
     "exception": false,
     "start_time": "2025-08-30T14:13:20.066487",
     "status": "completed"
    },
    "tags": []
   },
   "outputs": [
    {
     "data": {
      "text/plain": [
       "Rank              int64\n",
       "Name             object\n",
       "Platform         object\n",
       "Year            float64\n",
       "Genre            object\n",
       "Publisher        object\n",
       "NA_Sales        float64\n",
       "EU_Sales        float64\n",
       "JP_Sales        float64\n",
       "Other_Sales     float64\n",
       "Global_Sales    float64\n",
       "dtype: object"
      ]
     },
     "execution_count": 7,
     "metadata": {},
     "output_type": "execute_result"
    }
   ],
   "source": [
    "df.isna().sum()\n",
    "\n",
    "df.dtypes\n"
   ]
  },
  {
   "cell_type": "code",
   "execution_count": 8,
   "id": "788aa8e2",
   "metadata": {
    "execution": {
     "iopub.execute_input": "2025-08-30T14:13:20.098687Z",
     "iopub.status.busy": "2025-08-30T14:13:20.098345Z",
     "iopub.status.idle": "2025-08-30T14:13:20.110303Z",
     "shell.execute_reply": "2025-08-30T14:13:20.109457Z"
    },
    "papermill": {
     "duration": 0.020234,
     "end_time": "2025-08-30T14:13:20.111808",
     "exception": false,
     "start_time": "2025-08-30T14:13:20.091574",
     "status": "completed"
    },
    "tags": []
   },
   "outputs": [],
   "source": [
    "df = df.dropna(subset=['Year','Publisher'])\n"
   ]
  },
  {
   "cell_type": "markdown",
   "id": "924d14d2",
   "metadata": {
    "papermill": {
     "duration": 0.005499,
     "end_time": "2025-08-30T14:13:20.123243",
     "exception": false,
     "start_time": "2025-08-30T14:13:20.117744",
     "status": "completed"
    },
    "tags": []
   },
   "source": [
    "## 🔢 Level 4: Patch the `Year` Column (Data Types)\n",
    "\n",
    "`Year` often shows up as a float (e.g., `2008.0`) because of missing values earlier.\n",
    "\n",
    "**Your tasks:**\n",
    "- Convert **`Year`** to **integer**.\n",
    "- Re-run a quick `info` to confirm the dtype change.\n",
    "\n",
    "> If conversion fails, revisit Level 3 — some NaNs may still be lurking.\n"
   ]
  },
  {
   "cell_type": "code",
   "execution_count": 9,
   "id": "76e490fe",
   "metadata": {
    "execution": {
     "iopub.execute_input": "2025-08-30T14:13:20.135784Z",
     "iopub.status.busy": "2025-08-30T14:13:20.135094Z",
     "iopub.status.idle": "2025-08-30T14:13:20.142689Z",
     "shell.execute_reply": "2025-08-30T14:13:20.141660Z"
    },
    "papermill": {
     "duration": 0.01539,
     "end_time": "2025-08-30T14:13:20.144147",
     "exception": false,
     "start_time": "2025-08-30T14:13:20.128757",
     "status": "completed"
    },
    "tags": []
   },
   "outputs": [
    {
     "data": {
      "text/plain": [
       "Rank              int64\n",
       "Name             object\n",
       "Platform         object\n",
       "Year              int64\n",
       "Genre            object\n",
       "Publisher        object\n",
       "NA_Sales        float64\n",
       "EU_Sales        float64\n",
       "JP_Sales        float64\n",
       "Other_Sales     float64\n",
       "Global_Sales    float64\n",
       "dtype: object"
      ]
     },
     "execution_count": 9,
     "metadata": {},
     "output_type": "execute_result"
    }
   ],
   "source": [
    "df['Year'] = df['Year'].astype(int)\n",
    "df.dtypes"
   ]
  },
  {
   "cell_type": "markdown",
   "id": "2d0bcc9f",
   "metadata": {
    "papermill": {
     "duration": 0.005534,
     "end_time": "2025-08-30T14:13:20.155560",
     "exception": false,
     "start_time": "2025-08-30T14:13:20.150026",
     "status": "completed"
    },
    "tags": []
   },
   "source": [
    "\n",
    "## 🎮 Level 5: Spotting the Legends  \n",
    "Now that we’ve explored platforms and genres, let’s look at the **all-time best sellers**.  \n",
    "Your task:  \n",
    "\n",
    "List the **Top 5 best-selling video games**.  \n",
    "We’ll display their **Name, Platform, Genre, and Global Sales**.  \n",
    "\n",
    "Think of this as the **Hall of Fame of Video Games** \n",
    "\n",
    "\n"
   ]
  },
  {
   "cell_type": "code",
   "execution_count": 10,
   "id": "de00e3d4",
   "metadata": {
    "execution": {
     "iopub.execute_input": "2025-08-30T14:13:20.168488Z",
     "iopub.status.busy": "2025-08-30T14:13:20.167839Z",
     "iopub.status.idle": "2025-08-30T14:13:20.178374Z",
     "shell.execute_reply": "2025-08-30T14:13:20.177572Z"
    },
    "papermill": {
     "duration": 0.018653,
     "end_time": "2025-08-30T14:13:20.179850",
     "exception": false,
     "start_time": "2025-08-30T14:13:20.161197",
     "status": "completed"
    },
    "tags": []
   },
   "outputs": [
    {
     "data": {
      "text/html": [
       "<div>\n",
       "<style scoped>\n",
       "    .dataframe tbody tr th:only-of-type {\n",
       "        vertical-align: middle;\n",
       "    }\n",
       "\n",
       "    .dataframe tbody tr th {\n",
       "        vertical-align: top;\n",
       "    }\n",
       "\n",
       "    .dataframe thead th {\n",
       "        text-align: right;\n",
       "    }\n",
       "</style>\n",
       "<table border=\"1\" class=\"dataframe\">\n",
       "  <thead>\n",
       "    <tr style=\"text-align: right;\">\n",
       "      <th></th>\n",
       "      <th>Name</th>\n",
       "      <th>Platform</th>\n",
       "      <th>Genre</th>\n",
       "      <th>Global_Sales</th>\n",
       "    </tr>\n",
       "  </thead>\n",
       "  <tbody>\n",
       "    <tr>\n",
       "      <th>0</th>\n",
       "      <td>Wii Sports</td>\n",
       "      <td>Wii</td>\n",
       "      <td>Sports</td>\n",
       "      <td>82.74</td>\n",
       "    </tr>\n",
       "    <tr>\n",
       "      <th>1</th>\n",
       "      <td>Super Mario Bros.</td>\n",
       "      <td>NES</td>\n",
       "      <td>Platform</td>\n",
       "      <td>40.24</td>\n",
       "    </tr>\n",
       "    <tr>\n",
       "      <th>2</th>\n",
       "      <td>Mario Kart Wii</td>\n",
       "      <td>Wii</td>\n",
       "      <td>Racing</td>\n",
       "      <td>35.82</td>\n",
       "    </tr>\n",
       "    <tr>\n",
       "      <th>3</th>\n",
       "      <td>Wii Sports Resort</td>\n",
       "      <td>Wii</td>\n",
       "      <td>Sports</td>\n",
       "      <td>33.00</td>\n",
       "    </tr>\n",
       "    <tr>\n",
       "      <th>4</th>\n",
       "      <td>Pokemon Red/Pokemon Blue</td>\n",
       "      <td>GB</td>\n",
       "      <td>Role-Playing</td>\n",
       "      <td>31.37</td>\n",
       "    </tr>\n",
       "  </tbody>\n",
       "</table>\n",
       "</div>"
      ],
      "text/plain": [
       "                       Name Platform         Genre  Global_Sales\n",
       "0                Wii Sports      Wii        Sports         82.74\n",
       "1         Super Mario Bros.      NES      Platform         40.24\n",
       "2            Mario Kart Wii      Wii        Racing         35.82\n",
       "3         Wii Sports Resort      Wii        Sports         33.00\n",
       "4  Pokemon Red/Pokemon Blue       GB  Role-Playing         31.37"
      ]
     },
     "execution_count": 10,
     "metadata": {},
     "output_type": "execute_result"
    }
   ],
   "source": [
    "df[[ 'Name', 'Platform',  'Genre', \n",
    "          'Global_Sales']].head(5)\n"
   ]
  },
  {
   "cell_type": "markdown",
   "id": "40580589",
   "metadata": {
    "papermill": {
     "duration": 0.005783,
     "end_time": "2025-08-30T14:13:20.191886",
     "exception": false,
     "start_time": "2025-08-30T14:13:20.186103",
     "status": "completed"
    },
    "tags": []
   },
   "source": [
    "\n",
    "## 🎮 Level 6: Which Console Ruled the Game?  \n",
    "Every console/platform has a legacy — but which one released the **most number of games**?  \n",
    "\n",
    "Count the number of games released on each platform.  \n",
    "Create a **bar chart** to visualize it.  \n",
    "Finally, answer: **Which platform has the highest number of releases?** \n",
    "\n",
    "  \n"
   ]
  },
  {
   "cell_type": "code",
   "execution_count": 11,
   "id": "997f1f86",
   "metadata": {
    "execution": {
     "iopub.execute_input": "2025-08-30T14:13:20.205232Z",
     "iopub.status.busy": "2025-08-30T14:13:20.204940Z",
     "iopub.status.idle": "2025-08-30T14:13:20.215368Z",
     "shell.execute_reply": "2025-08-30T14:13:20.214698Z"
    },
    "papermill": {
     "duration": 0.018684,
     "end_time": "2025-08-30T14:13:20.216739",
     "exception": false,
     "start_time": "2025-08-30T14:13:20.198055",
     "status": "completed"
    },
    "tags": []
   },
   "outputs": [
    {
     "data": {
      "text/plain": [
       "Platform\n",
       "DS      2131\n",
       "PS2     2127\n",
       "PS3     1304\n",
       "Wii     1290\n",
       "X360    1234\n",
       "PSP     1197\n",
       "PS      1189\n",
       "PC       938\n",
       "XB       803\n",
       "GBA      786\n",
       "GC       542\n",
       "3DS      499\n",
       "PSV      410\n",
       "PS4      336\n",
       "N64      316\n",
       "SNES     239\n",
       "XOne     213\n",
       "SAT      173\n",
       "WiiU     143\n",
       "2600     116\n",
       "NES       98\n",
       "GB        97\n",
       "DC        52\n",
       "GEN       27\n",
       "NG        12\n",
       "SCD        6\n",
       "WS         6\n",
       "3DO        3\n",
       "TG16       2\n",
       "GG         1\n",
       "PCFX       1\n",
       "Name: count, dtype: int64"
      ]
     },
     "execution_count": 11,
     "metadata": {},
     "output_type": "execute_result"
    }
   ],
   "source": [
    "df[\"Platform\"].value_counts()"
   ]
  },
  {
   "cell_type": "code",
   "execution_count": 12,
   "id": "49dfb9b4",
   "metadata": {
    "execution": {
     "iopub.execute_input": "2025-08-30T14:13:20.229943Z",
     "iopub.status.busy": "2025-08-30T14:13:20.229669Z",
     "iopub.status.idle": "2025-08-30T14:13:20.757875Z",
     "shell.execute_reply": "2025-08-30T14:13:20.757144Z"
    },
    "papermill": {
     "duration": 0.536778,
     "end_time": "2025-08-30T14:13:20.759488",
     "exception": false,
     "start_time": "2025-08-30T14:13:20.222710",
     "status": "completed"
    },
    "tags": []
   },
   "outputs": [
    {
     "data": {
      "text/plain": [
       "Text(0, 0.5, 'no of games released')"
      ]
     },
     "execution_count": 12,
     "metadata": {},
     "output_type": "execute_result"
    },
    {
     "data": {
      "image/png": "[encoded data removed]",
      "text/plain": [
       "<Figure size 640x480 with 1 Axes>"
      ]
     },
     "metadata": {},
     "output_type": "display_data"
    }
   ],
   "source": [
    " ax=df[\"Platform\"].value_counts()\\\n",
    "    .head(20)\\\n",
    "    .plot(kind=\"bar\",title=\"top platform of game release\")\n",
    "ax.set_ylabel(\"no of games released\")"
   ]
  },
  {
   "cell_type": "markdown",
   "id": "6137f98b",
   "metadata": {
    "papermill": {
     "duration": 0.006451,
     "end_time": "2025-08-30T14:13:20.773178",
     "exception": false,
     "start_time": "2025-08-30T14:13:20.766727",
     "status": "completed"
    },
    "tags": []
   },
   "source": [
    "\n",
    "## 🏢 Level 7: The Big Bosses (Top Publishers)  \n",
    "Some publishers dominate the industry like final bosses \n",
    "\n",
    "Your task:  \n",
    "- Find the **Top 5 publishers** with the highest **total Global Sales**.  \n",
    "- Show their contribution using a **pie chart** \n",
    "\n",
    "This will help us see who really controlled the gaming world  \n"
   ]
  },
  {
   "cell_type": "code",
   "execution_count": 13,
   "id": "03ce5823",
   "metadata": {
    "execution": {
     "iopub.execute_input": "2025-08-30T14:13:20.787971Z",
     "iopub.status.busy": "2025-08-30T14:13:20.787271Z",
     "iopub.status.idle": "2025-08-30T14:13:20.801082Z",
     "shell.execute_reply": "2025-08-30T14:13:20.800076Z"
    },
    "papermill": {
     "duration": 0.022841,
     "end_time": "2025-08-30T14:13:20.802732",
     "exception": false,
     "start_time": "2025-08-30T14:13:20.779891",
     "status": "completed"
    },
    "tags": []
   },
   "outputs": [
    {
     "name": "stdout",
     "output_type": "stream",
     "text": [
      "Publisher\n",
      "Nintendo                       1784.43\n",
      "Electronic Arts                1093.39\n",
      "Activision                      721.41\n",
      "Sony Computer Entertainment     607.28\n",
      "Ubisoft                         473.54\n",
      "Name: Global_Sales, dtype: float64\n"
     ]
    }
   ],
   "source": [
    "top=df.groupby(\"Publisher\")['Global_Sales'].sum()\n",
    "top5=top.sort_values(ascending=False).head(5)\n",
    "print(top5)\n"
   ]
  },
  {
   "cell_type": "code",
   "execution_count": 14,
   "id": "1e84210f",
   "metadata": {
    "execution": {
     "iopub.execute_input": "2025-08-30T14:13:20.817473Z",
     "iopub.status.busy": "2025-08-30T14:13:20.816959Z",
     "iopub.status.idle": "2025-08-30T14:13:20.959826Z",
     "shell.execute_reply": "2025-08-30T14:13:20.959119Z"
    },
    "papermill": {
     "duration": 0.152238,
     "end_time": "2025-08-30T14:13:20.961682",
     "exception": false,
     "start_time": "2025-08-30T14:13:20.809444",
     "status": "completed"
    },
    "tags": []
   },
   "outputs": [
    {
     "data": {
      "text/plain": [
       "<Axes: title={'center': 'top 5 publishers'}, ylabel='Global_Sales'>"
      ]
     },
     "execution_count": 14,
     "metadata": {},
     "output_type": "execute_result"
    },
    {
     "data": {
      "image/png": "[encoded data removed]",
      "text/plain": [
       "<Figure size 640x480 with 1 Axes>"
      ]
     },
     "metadata": {},
     "output_type": "display_data"
    }
   ],
   "source": [
    "top5.plot(kind=\"pie\", autopct='%1.1f%%',title=\"top 5 publishers\")"
   ]
  },
  {
   "cell_type": "markdown",
   "id": "3b96113f",
   "metadata": {
    "papermill": {
     "duration": 0.008241,
     "end_time": "2025-08-30T14:13:20.980406",
     "exception": false,
     "start_time": "2025-08-30T14:13:20.972165",
     "status": "completed"
    },
    "tags": []
   },
   "source": [
    "\n",
    "## 🌍 Level 8: Genre Champions in Europe  \n",
    "Different genres have their own kings in different regions.  \n",
    "Let’s focus on **Europe (EU Sales)** for now.  \n",
    "\n",
    "Your task:  \n",
    "- For **each Genre**, find the **Publisher** that has the highest **total EU Sales**.  \n",
    "- Print the results as a list (Genre → Top Publisher).  \n",
    "\n",
    "Think of this as awarding the **regional championship belts**  \n",
    "\n"
   ]
  },
  {
   "cell_type": "code",
   "execution_count": 15,
   "id": "71c393f7",
   "metadata": {
    "execution": {
     "iopub.execute_input": "2025-08-30T14:13:20.996900Z",
     "iopub.status.busy": "2025-08-30T14:13:20.996304Z",
     "iopub.status.idle": "2025-08-30T14:13:21.013871Z",
     "shell.execute_reply": "2025-08-30T14:13:21.012834Z"
    },
    "papermill": {
     "duration": 0.027311,
     "end_time": "2025-08-30T14:13:21.015218",
     "exception": false,
     "start_time": "2025-08-30T14:13:20.987907",
     "status": "completed"
    },
    "tags": []
   },
   "outputs": [
    {
     "name": "stdout",
     "output_type": "stream",
     "text": [
      "             Genre             Publisher  EU_Sales\n",
      "198         Action  Take-Two Interactive     70.44\n",
      "416      Adventure               Ubisoft      8.08\n",
      "511       Fighting                   THQ     20.58\n",
      "663           Misc              Nintendo     51.62\n",
      "804       Platform              Nintendo     84.90\n",
      "908         Puzzle              Nintendo     26.42\n",
      "987         Racing       Electronic Arts     51.20\n",
      "1192  Role-Playing              Nintendo     63.92\n",
      "1246       Shooter            Activision     96.86\n",
      "1430    Simulation       Electronic Arts     35.83\n",
      "1592        Sports       Electronic Arts    144.14\n",
      "1712      Strategy            Activision      7.94\n"
     ]
    },
    {
     "name": "stderr",
     "output_type": "stream",
     "text": [
      "/tmp/ipykernel_13/1238059448.py:1: FutureWarning: The provided callable <built-in function sum> is currently using SeriesGroupBy.sum. In a future version of pandas, the provided callable will be used directly. To keep current behavior pass the string \"sum\" instead.\n",
      "  g=df.groupby([\"Genre\",\"Publisher\"]).agg({'EU_Sales':sum}).reset_index()\n"
     ]
    }
   ],
   "source": [
    "\n",
    "g=df.groupby([\"Genre\",\"Publisher\"]).agg({'EU_Sales':sum}).reset_index()\n",
    "top_publishers =g.loc [g.groupby('Genre')['EU_Sales'].idxmax()]\n",
    "print(top_publishers )"
   ]
  },
  {
   "cell_type": "markdown",
   "id": "c0bd1917",
   "metadata": {
    "papermill": {
     "duration": 0.007394,
     "end_time": "2025-08-30T14:13:21.030334",
     "exception": false,
     "start_time": "2025-08-30T14:13:21.022940",
     "status": "completed"
    },
    "tags": []
   },
   "source": [
    "\n",
    "## 🎯 Level 9: Nintendo’s Golden Year  \n",
    "Nintendo is one of the biggest names in gaming 🎮  \n",
    "But… which year did Nintendo achieve its **highest total Global Sales**?  \n",
    "\n",
    "Your task:  \n",
    "- Filter the dataset for **Publisher = Nintendo**.  \n",
    "- Group sales by year.  \n",
    "- Find the year with the **highest global sales**.  \n",
    "\n",
    "This is like uncovering the **peak of Nintendo’s power**   \n",
    "\n"
   ]
  },
  {
   "cell_type": "code",
   "execution_count": 16,
   "id": "1808704e",
   "metadata": {
    "execution": {
     "iopub.execute_input": "2025-08-30T14:13:21.046347Z",
     "iopub.status.busy": "2025-08-30T14:13:21.046086Z",
     "iopub.status.idle": "2025-08-30T14:13:21.059637Z",
     "shell.execute_reply": "2025-08-30T14:13:21.058839Z"
    },
    "papermill": {
     "duration": 0.023204,
     "end_time": "2025-08-30T14:13:21.061003",
     "exception": false,
     "start_time": "2025-08-30T14:13:21.037799",
     "status": "completed"
    },
    "tags": []
   },
   "outputs": [
    {
     "data": {
      "text/plain": [
       "Year\n",
       "2006    205.61\n",
       "Name: Global_Sales, dtype: float64"
      ]
     },
     "execution_count": 16,
     "metadata": {},
     "output_type": "execute_result"
    }
   ],
   "source": [
    " df.query('Publisher ==\"Nintendo\"')\\\n",
    "    .groupby(\"Year\")[\"Global_Sales\"]\\\n",
    "     .sum().sort_values(ascending=False).head(1)"
   ]
  },
  {
   "cell_type": "markdown",
   "id": "c93a94b6",
   "metadata": {
    "papermill": {
     "duration": 0.007483,
     "end_time": "2025-08-30T14:13:21.076426",
     "exception": false,
     "start_time": "2025-08-30T14:13:21.068943",
     "status": "completed"
    },
    "tags": []
   },
   "source": [
    "\n",
    "## 🏟️ Final Boss Arena: The Data Playground  \n",
    "\n",
    "You’ve fought through all the levels ⚔️, now it’s time to explore on your own 🎉  \n",
    "\n",
    "Your final mission:  \n",
    "- Choose **any 2–3 plots** (your choice!) that show **interesting patterns** in the data.   \n",
    "\n",
    "💡 This is your **creative zone** → Think of it as building your own “story” from the dataset.  \n",
    "\n",
    "When you’re done, share your best plot with the team — let’s see who finds the coolest insight!  \n",
    "\n"
   ]
  },
  {
   "cell_type": "code",
   "execution_count": 17,
   "id": "de65903f",
   "metadata": {
    "execution": {
     "iopub.execute_input": "2025-08-30T14:13:21.092778Z",
     "iopub.status.busy": "2025-08-30T14:13:21.092479Z",
     "iopub.status.idle": "2025-08-30T14:13:21.450302Z",
     "shell.execute_reply": "2025-08-30T14:13:21.449501Z"
    },
    "papermill": {
     "duration": 0.367885,
     "end_time": "2025-08-30T14:13:21.451843",
     "exception": false,
     "start_time": "2025-08-30T14:13:21.083958",
     "status": "completed"
    },
    "tags": []
   },
   "outputs": [
    {
     "data": {
      "image/png": "[encoded data removed]",
      "text/plain": [
       "<Figure size 640x480 with 1 Axes>"
      ]
     },
     "metadata": {},
     "output_type": "display_data"
    }
   ],
   "source": [
    "ax=df.query(\"Publisher=='Nintendo'\").groupby(\"Year\")[\"Global_Sales\"].sum().plot(kind=\"bar\",title=\"nintendo's total sales \")\\\n",
    "   \n"
   ]
  }
 ],
 "metadata": {
  "kaggle": {
   "accelerator": "none",
   "dataSources": [
    {
     "datasetId": 284,
     "sourceId": 618,
     "sourceType": "datasetVersion"
    }
   ],
   "dockerImageVersionId": 31089,
   "isGpuEnabled": false,
   "isInternetEnabled": false,
   "language": "python",
   "sourceType": "notebook"
  },
  "kernelspec": {
   "display_name": "Python 3",
   "language": "python",
   "name": "python3"
  },
  "language_info": {
   "codemirror_mode": {
    "name": "ipython",
    "version": 3
   },
   "file_extension": ".py",
   "mimetype": "text/x-python",
   "name": "python",
   "nbconvert_exporter": "python",
   "pygments_lexer": "ipython3",
   "version": "3.11.13"
  },
  "papermill": {
   "default_parameters": {},
   "duration": 10.890734,
   "end_time": "2025-08-30T14:13:22.080906",
   "environment_variables": {},
   "exception": null,
   "input_path": "__notebook__.ipynb",
   "output_path": "__notebook__.ipynb",
   "parameters": {},
   "start_time": "2025-08-30T14:13:11.190172",
   "version": "2.6.0"
  }
 },
 "nbformat": 4,
 "nbformat_minor": 5
}
